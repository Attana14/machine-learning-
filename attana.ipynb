{
  "nbformat": 4,
  "nbformat_minor": 0,
  "metadata": {
    "colab": {
      "provenance": []
    },
    "kernelspec": {
      "name": "python3",
      "display_name": "Python 3"
    },
    "language_info": {
      "name": "python"
    }
  },
  "cells": [
    {
      "cell_type": "code",
      "execution_count": null,
      "metadata": {
        "id": "9wsDzz5hxxy0"
      },
      "outputs": [],
      "source": [
        "import numpy as np"
      ]
    },
    {
      "cell_type": "code",
      "source": [
        "X = np.array([[0,0],[0,1],[1,0],[1,1]])\n",
        "Y = np.array([0,0,0,1])\n"
      ],
      "metadata": {
        "id": "E4ewKyHCyD7v"
      },
      "execution_count": null,
      "outputs": []
    },
    {
      "cell_type": "code",
      "source": [
        "w = np.array([0.3, -0.2])\n",
        "b = -0.4\n",
        "eta = 0.2\n"
      ],
      "metadata": {
        "id": "93GuEqMgyF8D"
      },
      "execution_count": null,
      "outputs": []
    },
    {
      "cell_type": "code",
      "source": [
        "max_epochs=100"
      ],
      "metadata": {
        "id": "ZslylwE_yMX1"
      },
      "execution_count": null,
      "outputs": []
    },
    {
      "cell_type": "code",
      "source": [
        "for _ in range(max_epochs):\n",
        "      errors = 0\n",
        "      for xi, target in zip(X, Y):\n",
        "          net = np.dot(w, xi) + b\n",
        "          out = 1 if net >= 0 else 0\n",
        "          err = target - out\n",
        "          if err != 0:\n",
        "            w += eta * err * xi\n",
        "            b += eta * err\n",
        "            errors += 1\n",
        "      if errors == 0:\n",
        "         break\n"
      ],
      "metadata": {
        "id": "Yo89hfXbyrs_"
      },
      "execution_count": null,
      "outputs": []
    },
    {
      "cell_type": "code",
      "source": [
        "for xi in X:\n",
        "      out = 1 if np.dot(w, xi) + b >= 0 else 0\n",
        "      print(xi, \"->\", out)\n",
        "\n",
        "print(\"Final weights:\", w, \"Bias:\", b)\n"
      ],
      "metadata": {
        "colab": {
          "base_uri": "https://localhost:8080/"
        },
        "id": "cSmCdfc0zOgD",
        "outputId": "f2c5f97b-bf64-41cf-c68f-7fbab0150135"
      },
      "execution_count": null,
      "outputs": [
        {
          "output_type": "stream",
          "name": "stdout",
          "text": [
            "[0 0] -> 0\n",
            "[0 1] -> 0\n",
            "[1 0] -> 0\n",
            "[1 1] -> 1\n",
            "Final weights: [0.3 0.4] Bias: -0.6000000000000001\n"
          ]
        }
      ]
    }
  ]
}